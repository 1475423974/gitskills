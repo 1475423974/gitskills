{
 "cells": [
  {
   "cell_type": "code",
   "execution_count": 2,
   "metadata": {},
   "outputs": [
    {
     "name": "stdout",
     "output_type": "stream",
     "text": [
      "Looking in indexes: http://pypi.mirrors.ustc.edu.cn/simple/Note: you may need to restart the kernel to use updated packages.\n",
      "\n"
     ]
    },
    {
     "name": "stderr",
     "output_type": "stream",
     "text": [
      "WARNING: The repository located at pypi.mirrors.ustc.edu.cn is not a trusted or secure host and is being ignored. If this repository is available via HTTPS we recommend you use HTTPS instead, otherwise you may silence this warning and allow it anyway with '--trusted-host pypi.mirrors.ustc.edu.cn'.\n",
      "ERROR: Could not find a version that satisfies the requirement turicreate (from versions: none)\n",
      "ERROR: No matching distribution found for turicreate\n",
      "WARNING: You are using pip version 20.2.1; however, version 23.2.1 is available.\n",
      "You should consider upgrading via the 'c:\\Users\\Jianxiong\\AppData\\Local\\Programs\\Python\\Python38\\python.exe -m pip install --upgrade pip' command.\n"
     ]
    }
   ],
   "source": [
    "%pip install turicreate -i http://pypi.mirrors.ustc.edu.cn/simple/ --trusted-host pypi.douban.com"
   ]
  },
  {
   "cell_type": "code",
   "execution_count": 1,
   "metadata": {},
   "outputs": [
    {
     "name": "stdout",
     "output_type": "stream",
     "text": [
      "learning git\n"
     ]
    }
   ],
   "source": [
    "print(\"learning git\")"
   ]
  },
  {
   "cell_type": "code",
   "execution_count": null,
   "metadata": {},
   "outputs": [
    {
     "ename": "",
     "evalue": "",
     "output_type": "error",
     "traceback": [
      "\u001b[1;31mThe kernel failed to start as a dll could not be loaded.\n",
      "\u001b[1;31mClick <a href='https://aka.ms/kernelFailuresDllLoad'>here</a> for more info."
     ]
    }
   ],
   "source": [
    "def var_cross(res_col, target = 'overdue_flag', bad_thresh=0.12, good_thresh=0.04, num_rate=0.02, lift_rate=1.2):\n",
    "    r#res_col为一个tuple元素的list\n",
    "    res = pd.DataFrame()\n",
    "    df_res = pd.DataFrame()\n",
    "    for group_col in res_col:\n",
    "\n",
    "        group_drf = df[list(group_col)+[target]].copy()  #df ?  从df中选出一部分\n",
    "        for num_col in group_df.select_dtypes(include=[np.number]):\n",
    "            if group_df[num_col].value_counts().shape[0]>=10:\n",
    "                group_df[num_col] = pd.qcut(group_df[num_col],10,duplicates='drop').astype(str)\n",
    "        aa\n",
    "        tmp = group_df.groupby(list(group_col) if isinstance(group_col,tuple) else group_col)[target].agg({'count','mean'}) #提取group_df中的count和mean\n",
    "        for item in tmp.iterrows():\n",
    "            if (item[1]['count']>df.shape[0]*num_rate)&((item[1]['mean']>bad_thresh)|(item[1]['mean']<good_thresh)):\n",
    "\n",
    "                br1 = df.loc[df[group_col[0]]==item[0][0],target].mean()\n",
    "                br2 = df.loc[df[group_col[1]]==item[0][1],target].mean()\n",
    "                if ( (item[1]['mean']>=br1*lift_rate)&(item[1]['mean']>=br2*lift_rate) )|( (item[1]['mean']*lift_rate<=br1)&(item[1]['mean']*lift_rate<=br2) ):\n",
    "                    col_name = 'CROSS_'+str(group_col[0])+str(item[0][0])+str(group_col[1])+str(item[0][1])\n",
    "                    col_name = col_name.replace(', ','_').replace('(','').replace(']','')\n",
    "                    group_df[col_name]=0\n",
    "                    group_df.loc[(group_df[group_col[0]]==item[0][0])&(group_df[group_col[1]]==item[0][1]),col_name]=1\n",
    "                    df_tmp = pd.DataFrame({'var':str(group_col),'bin':str(item[0]),'count':item[1]['count'],\n",
    "                                   'bad_rate':item[1]['mean'],'var_bad_rate':str([br1,br2])},index=[0]) #生成一个df_tmp\n",
    "                    res = pd.concat([res,df_tmp])#将df_tmp和空数据框拼接\n",
    "                    df_res = pd.concat([df_res,group_df[[x for x in group_df if x.startswith('CROSS')]]],axis=1)#将生成的df_res一次次和group_df拼接\n",
    "\n",
    "\treturn df_res, res\n"
   ]
  },
  {
   "cell_type": "code",
   "execution_count": null,
   "metadata": {},
   "outputs": [],
   "source": [
    "import multiprocessing\n",
    "from tqdm import tqdm\n",
    "\n",
    "def var_cross_multi(res_col, target = 'overdue_flag', bad_thresh=0.12, good_thresh=0.04, num_rate=0.02, lift_rate=1.2):\n",
    "\n",
    "    jobn = 60\n",
    "    \n",
    "    ###该部分即把入参res_col拆分成60分，\n",
    "    ###每一份放在一个list里面，把所有list结果统统放在data_list中\n",
    "    row_s = pd.Series(range(0, len(res_col)), index=res_col)\n",
    "    jobn = min(jobn, len(row_s.index))\n",
    "    row_cut = pd.qcut(row_s, jobn, labels=range(0, jobn))\n",
    "    data_list = []\n",
    "    for i in range(0, jobn):\n",
    "        data_list.append(list(row_cut[row_cut == i].index))\n",
    "    \n",
    "    ###开启多线程，每一份同时调用var_cross函数\n",
    "    mp = multiprocessing.Pool(jobn)\n",
    "    mplist = []\n",
    "    for i in range(0, jobn):\n",
    "        mplist.append(\n",
    "            mp.apply_async(\n",
    "                func=var_cross,\n",
    "                kwds={'res_col':data_list[i],'target':target, 'bad_thresh':bad_thresh, 'good_thresh':good_thresh, 'num_rate':num_rate, 'lift_rate':lift_rate}))\n",
    "    mp.close()\n",
    "    mp.join()\n",
    "    \n",
    "    ###把每个线程的结果拼接起来\n",
    "    res = pd.DataFrame()\n",
    "    df_res = pd.DataFrame()\n",
    "    for result in tqdm(mplist):\n",
    "        part_res = result.get()\n",
    "        if len(part_res)>1:\n",
    "            res = pd.concat([res,part_res[1]])\n",
    "            df_res = pd.concat([df_res,part_res[0]],axis=1)\n",
    "\n",
    "    print('FINISH!!')\n",
    "    return df_res,res\n"
   ]
  },
  {
   "cell_type": "code",
   "execution_count": null,
   "metadata": {},
   "outputs": [
    {
     "ename": "",
     "evalue": "",
     "output_type": "error",
     "traceback": [
      "\u001b[1;31mThe kernel failed to start as a dll could not be loaded.\n",
      "\u001b[1;31mClick <a href='https://aka.ms/kernelFailuresDllLoad'>here</a> for more info."
     ]
    }
   ],
   "source": [
    "class Employee:\n",
    "    empcount=0\n",
    "    def __init__(self,name,salary):\n",
    "        self.name=name\n",
    "        self.salary=salary\n",
    "        Employee.empCount+=1\n",
    "    \n",
    "    def displaycount(self):\n",
    "        print \"total employee %d \" % Employee.empCount\n",
    "    def displayemployee(self):\n",
    "        print \"name&salary \" ,self.name, self.salary\n",
    "        \n",
    "        "
   ]
  },
  {
   "cell_type": "code",
   "execution_count": null,
   "metadata": {},
   "outputs": [],
   "source": []
  },
  {
   "cell_type": "code",
   "execution_count": null,
   "metadata": {},
   "outputs": [],
   "source": []
  },
  {
   "cell_type": "code",
   "execution_count": null,
   "metadata": {},
   "outputs": [],
   "source": []
  },
  {
   "cell_type": "code",
   "execution_count": null,
   "metadata": {},
   "outputs": [],
   "source": []
  }
 ],
 "metadata": {
  "kernelspec": {
   "display_name": "Python 3",
   "language": "python",
   "name": "python3"
  },
  "language_info": {
   "codemirror_mode": {
    "name": "ipython",
    "version": 3
   },
   "file_extension": ".py",
   "mimetype": "text/x-python",
   "name": "python",
   "nbconvert_exporter": "python",
   "pygments_lexer": "ipython3",
   "version": "3.8.6"
  },
  "orig_nbformat": 4
 },
 "nbformat": 4,
 "nbformat_minor": 2
}
